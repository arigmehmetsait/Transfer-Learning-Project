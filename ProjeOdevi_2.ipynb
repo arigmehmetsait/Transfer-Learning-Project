{
  "cells": [
    {
      "cell_type": "code",
      "execution_count": 406,
      "metadata": {
        "colab": {
          "base_uri": "https://localhost:8080/"
        },
        "id": "vVhgFAlXwnh7",
        "outputId": "c44dff51-9044-4d56-d822-0195c32662ff"
      },
      "outputs": [
        {
          "output_type": "stream",
          "name": "stdout",
          "text": [
            "Mounted at /gdrive\n"
          ]
        }
      ],
      "source": [
        "from google.colab import drive\n",
        "drive.mount('/gdrive')"
      ]
    },
    {
      "cell_type": "markdown",
      "source": [
        "# VERİYİ MODELE HAZIRLAMA VE GEREKLİ KÜTÜPHANELERİN YÜKLENMESİ"
      ],
      "metadata": {
        "id": "i4pjCWP0c6oh"
      }
    },
    {
      "cell_type": "code",
      "execution_count": 407,
      "metadata": {
        "id": "_9dCk5BNwsvu"
      },
      "outputs": [],
      "source": [
        "\n",
        "import numpy as np # linear algebra\n",
        "import pandas as pd # data processing, CSV file I/O (e.g. pd.read_csv)\n",
        "import matplotlib.pyplot as plt\n",
        "import seaborn as sns\n",
        "import glob\n",
        "import cv2\n",
        "import os"
      ]
    },
    {
      "cell_type": "code",
      "execution_count": 410,
      "metadata": {
        "id": "AwrtU4bJxTPZ"
      },
      "outputs": [],
      "source": [
        "data='/gdrive/My Drive/Pneumonia/X-Ray/'\n"
      ]
    },
    {
      "cell_type": "code",
      "execution_count": 411,
      "metadata": {
        "colab": {
          "base_uri": "https://localhost:8080/"
        },
        "id": "CL9wzrv9yEqK",
        "outputId": "4ba5cc5f-e022-4d4b-a398-fd2444a2c1cc"
      },
      "outputs": [
        {
          "output_type": "execute_result",
          "data": {
            "text/plain": [
              "['Viral', 'Bacterial']"
            ]
          },
          "metadata": {},
          "execution_count": 411
        }
      ],
      "source": [
        "os.listdir(data)"
      ]
    },
    {
      "cell_type": "code",
      "execution_count": 412,
      "metadata": {
        "id": "tk8SRaivyZxb"
      },
      "outputs": [],
      "source": [
        "CATEGORIES = ['Viral', 'Bacterial']\n",
        "IMG_SIZE = 100"
      ]
    },
    {
      "cell_type": "code",
      "execution_count": null,
      "metadata": {
        "id": "jxubojkYzh8s"
      },
      "outputs": [],
      "source": [
        "X = []\n",
        "y = []\n",
        "\n",
        "\n",
        "def load_data():\n",
        "    for category in CATEGORIES:\n",
        "        path = os.path.join(data, category)\n",
        "        class_num = CATEGORIES.index(category)\n",
        "\n",
        "        for img in os.listdir(path):\n",
        "            try:\n",
        "                img_array = cv2.imread(os.path.join(path, img))\n",
        "                new_array = cv2.resize(img_array, (IMG_SIZE, IMG_SIZE))\n",
        "                X.append(new_array)\n",
        "                y.append(class_num)\n",
        "            except Exception as e:\n",
        "                pass\n",
        "\n",
        "load_data()"
      ]
    },
    {
      "cell_type": "code",
      "execution_count": null,
      "metadata": {
        "id": "var_uuHW2u_J"
      },
      "outputs": [],
      "source": [
        "X = np.array(X)\n",
        "y = np.array(y)"
      ]
    },
    {
      "cell_type": "markdown",
      "source": [
        "1. ELEMENTE GÖRE TRAIN TEST VALIDATION DEĞELERİNİ AYIRDIM."
      ],
      "metadata": {
        "id": "hz4eVGOzcoiR"
      }
    },
    {
      "cell_type": "code",
      "execution_count": null,
      "metadata": {
        "id": "cBoCnC3HVUX9"
      },
      "outputs": [],
      "source": [
        "from sklearn.model_selection import train_test_split\n",
        "\n",
        "x_train, x_test, y_train, y_test = train_test_split(X, y, test_size=0.20, random_state =42)\n",
        "\n",
        "x_train, x_val, y_train, y_val = train_test_split(x_train, y_train, test_size=0.10, random_state=42)"
      ]
    },
    {
      "cell_type": "markdown",
      "source": [
        "3. ELEMENTE GÖRE TRAIN TEST VALIDATION DEĞELERİNİ AYIRDIM.\n",
        "\n",
        " AŞAĞIDAKİ İŞLEMLERİ HANGİSİNDE YAPMAK İSTİYORSANIZ ONU ÇALIŞTIRIN."
      ],
      "metadata": {
        "id": "vcHTfzUjcUUx"
      }
    },
    {
      "cell_type": "code",
      "source": [
        "from sklearn.model_selection import train_test_split\n",
        "\n",
        "x_train, x_test, y_train, y_test = train_test_split(X, y, test_size=0.30, random_state =42)\n",
        "\n",
        "x_train, x_val, y_train, y_val = train_test_split(x_train, y_train, test_size=0.10, random_state=42)"
      ],
      "metadata": {
        "id": "GmbJP8klaX7M"
      },
      "execution_count": null,
      "outputs": []
    },
    {
      "cell_type": "code",
      "execution_count": null,
      "metadata": {
        "id": "AMm3PDg1WnB4"
      },
      "outputs": [],
      "source": [
        "\n",
        "x_train = np.array(x_train)\n",
        "x_test = np.array(x_test)\n",
        "\n",
        "y_train = np.array(y_train)\n",
        "y_test = np.array(y_test)\n",
        "\n",
        "x_val = np.array(x_val)\n",
        "y_val = np.array(y_val)\n"
      ]
    },
    {
      "cell_type": "code",
      "execution_count": null,
      "metadata": {
        "id": "2EUjbFknWrx3"
      },
      "outputs": [],
      "source": [
        "print(\"x_train shape: \", x_train.shape)\n",
        "print(\"x_test shape: \", x_test.shape)\n",
        "print(\"x_val shape: \", x_val.shape)\n",
        "print(\"\\ny_train shape: \", y_train.shape)\n",
        "print(\"y_test shape: \", y_test.shape)\n",
        "print(\"y_val shape: \", y_val.shape)"
      ]
    },
    {
      "cell_type": "markdown",
      "source": [],
      "metadata": {
        "id": "I9EHU59Yb92E"
      }
    },
    {
      "cell_type": "code",
      "execution_count": null,
      "metadata": {
        "id": "BnZ_Aol_XBV6"
      },
      "outputs": [],
      "source": [
        "import tensorflow as tf\n",
        "\n",
        "train_yCl = tf.keras.utils.to_categorical(y_train, num_classes=2)\n",
        "test_yCl = tf.keras.utils.to_categorical(y_test, num_classes=2)\n",
        "valid_yCl = tf.keras.utils.to_categorical(y_val, num_classes=2)"
      ]
    },
    {
      "cell_type": "markdown",
      "source": [
        "# CNN MODELİ"
      ],
      "metadata": {
        "id": "8HrCSLBib-ef"
      }
    },
    {
      "cell_type": "code",
      "execution_count": null,
      "metadata": {
        "id": "cB9WCm2WXF1D"
      },
      "outputs": [],
      "source": [
        "from keras.layers import Input, Dense, Activation, BatchNormalization, Flatten, Conv2D, MaxPooling2D, Dropout\n",
        "from keras.models import Sequential\n",
        "\n",
        "model = Sequential()\n",
        "\n",
        "model.add(Conv2D(64, (3,3), padding='same', input_shape=(IMG_SIZE, IMG_SIZE, 3)))\n",
        "model.add(Activation('relu'))\n",
        "model.add(Conv2D(64, (3,3), padding='same'))\n",
        "model.add(Activation('relu'))\n",
        "model.add(MaxPooling2D(pool_size=(2,2)))\n",
        "model.add(BatchNormalization())\n",
        "model.add(Dropout(0.1))\n",
        "\n",
        "model.add(Conv2D(64, (3,3), padding='same'))\n",
        "model.add(Activation('relu'))\n",
        "model.add(Conv2D(64, (3,3), padding='same'))\n",
        "model.add(Activation('relu'))\n",
        "model.add(MaxPooling2D(pool_size=(2,2)))\n",
        "model.add(BatchNormalization())\n",
        "model.add(Dropout(0.1))\n",
        "\n",
        "model.add(Conv2D(128, (3,3), padding='same'))\n",
        "model.add(Activation('relu'))\n",
        "model.add(Conv2D(128, (3,3), padding='same'))\n",
        "model.add(Activation('relu'))\n",
        "model.add(MaxPooling2D(pool_size=(2,2)))\n",
        "model.add(BatchNormalization())\n",
        "model.add(Dropout(0.1))\n",
        "\n",
        "model.add(Flatten())\n",
        "model.add(Dense(1024))\n",
        "model.add(Activation('relu'))\n",
        "model.add(Dropout(0.4))\n",
        "model.add(Dense(1024))\n",
        "model.add(Activation('relu'))\n",
        "model.add(Dense(2))\n",
        "model.add(Activation('softmax'))\n",
        "\n",
        "model.compile(loss=\"categorical_crossentropy\", optimizer=\"adam\", metrics=['accuracy'])\n",
        "model.summary()"
      ]
    },
    {
      "cell_type": "code",
      "execution_count": null,
      "metadata": {
        "id": "5vAukKTKXQnm"
      },
      "outputs": [],
      "source": [
        "from tensorflow import keras\n",
        "\n",
        "callback_list = [\n",
        "    keras.callbacks.ModelCheckpoint(\n",
        "        filepath='model.h5',\n",
        "        monitor = 'val_accuracy', save_best_only=True, verbose=3\n",
        "    ),\n",
        "    keras.callbacks.EarlyStopping(monitor='val_loss', patience=10, verbose=3)\n",
        "]"
      ]
    },
    {
      "cell_type": "code",
      "execution_count": null,
      "metadata": {
        "id": "wlIgodOoXXPX"
      },
      "outputs": [],
      "source": [
        "import time\n",
        "start = time.time()\n",
        "\n",
        "history = model.fit(x_train, train_yCl,\n",
        "                    batch_size=64,\n",
        "                    validation_data = (x_val, valid_yCl),\n",
        "                    callbacks = callback_list,\n",
        "                    epochs = 1\n",
        "                    #epochs = 50\n",
        "                    )\n",
        "print(\"Eğitim süresi: \", time.time() - start, \"saniye\")"
      ]
    },
    {
      "cell_type": "code",
      "execution_count": null,
      "metadata": {
        "id": "uhQbiU0vZmb2"
      },
      "outputs": [],
      "source": [
        "score_valid = model.evaluate(x_val, valid_yCl)\n",
        "print(\"Validation Accuracy: \", score_valid[1])\n",
        "\n",
        "score_test = model.evaluate(x_test, test_yCl)\n",
        "print(\"Test Accuracy: \", score_test[1])\n",
        "\n",
        "score_train = model.evaluate(x_train, train_yCl)\n",
        "print(\"Train Accuracy: \", score_train[1])"
      ]
    },
    {
      "cell_type": "code",
      "execution_count": null,
      "metadata": {
        "id": "jiKX-FClfIPy"
      },
      "outputs": [],
      "source": [
        "from sklearn.metrics import confusion_matrix, classification_report"
      ]
    },
    {
      "cell_type": "code",
      "execution_count": null,
      "metadata": {
        "id": "5SyfwLGEfOPF"
      },
      "outputs": [],
      "source": [
        "import itertools\n",
        "def plot_confusion_matrix(cm, classes, normalize=True, title='Confusion matrix', cmap=plt.cm.Blues):\n",
        "    plt.figure(figsize=(8, 8))\n",
        "    plt.imshow(cm, interpolation='nearest', cmap=cmap)\n",
        "    plt.title(title)\n",
        "    plt.colorbar()\n",
        "    tick_marks = np.arange(len(classes))\n",
        "    plt.xticks(tick_marks, classes, rotation=45)\n",
        "    plt.yticks(tick_marks, classes)\n",
        "    if normalize:\n",
        "        cm = cm.astype('float') / cm.sum(axis=1)[:, np.newaxis]\n",
        "        cm = np.around(cm, decimals=2)\n",
        "        cm[np.isnan(cm)] = 0.0\n",
        "    thresh = cm.max() / 2.\n",
        "    for i, j in itertools.product(range(cm.shape[0]), range(cm.shape[1])):\n",
        "        plt.text(j, i, cm[i, j],\n",
        "                 horizontalalignment=\"center\",\n",
        "                 color=\"white\" if cm[i, j] > thresh else \"black\")\n",
        "    plt.tight_layout()\n",
        "    plt.ylabel('True label')\n",
        "    plt.xlabel('Predicted label')"
      ]
    },
    {
      "cell_type": "code",
      "execution_count": null,
      "metadata": {
        "id": "mFywnNpJfuMK"
      },
      "outputs": [],
      "source": [
        "labels_names = [0,1]\n",
        "\n",
        "Y_pred = model.predict(x_test)\n",
        "\n",
        "y_pred_model = np.argmax(Y_pred, axis=1)\n",
        "\n",
        "cm_model = confusion_matrix(y_test, y_pred_model)\n",
        "plot_confusion_matrix(cm_model, CATEGORIES, normalize=False, title='Karmaşıklık Matrisi (Confusion Matrix)')"
      ]
    },
    {
      "cell_type": "code",
      "execution_count": null,
      "metadata": {
        "id": "kwIIQRwNiP5_"
      },
      "outputs": [],
      "source": [
        "from sklearn.utils.extmath import weighted_mode\n",
        "from sklearn.metrics import accuracy_score,f1_score,precision_score,recall_score\n",
        "\n",
        "accuracy = accuracy_score(y_test, y_pred_model)\n",
        "print('CNN Accuracy Değeri: %f' % accuracy)\n",
        "\n",
        "precision = precision_score(y_test, y_pred_model,average='weighted',zero_division=0)\n",
        "print('CNN Precision Değeri: %f' % precision)\n",
        "\n",
        "recall = recall_score(y_test, y_pred_model,average='weighted',zero_division=0)\n",
        "print('CNN Recall Değeri: %f' % recall)\n",
        "\n",
        "f1 = f1_score(y_test, y_pred_model,average='weighted',zero_division=0)\n",
        "print('CNN F1 Değeri: %f' % f1)"
      ]
    },
    {
      "cell_type": "code",
      "execution_count": null,
      "metadata": {
        "id": "WdOm-ttjis7n"
      },
      "outputs": [],
      "source": [
        "print(classification_report(y_test,y_pred_model,zero_division=0 ))"
      ]
    },
    {
      "cell_type": "markdown",
      "metadata": {
        "id": "k3GKYkIQ3lcf"
      },
      "source": [
        "\n",
        "# RESNET50V2"
      ]
    },
    {
      "cell_type": "code",
      "execution_count": null,
      "metadata": {
        "id": "5d7QZFhX3rrU"
      },
      "outputs": [],
      "source": [
        "res = tf.keras.applications.ResNet50V2(\n",
        "    input_shape=(100, 100, 3),\n",
        "    include_top = False\n",
        ")\n",
        "\n",
        "res.trainable = False"
      ]
    },
    {
      "cell_type": "code",
      "execution_count": null,
      "metadata": {
        "id": "5R_sJl9B33Tu"
      },
      "outputs": [],
      "source": [
        "res_model = Sequential()\n",
        "\n",
        "res_model.add(res)\n",
        "res_model.add(Dropout(0.25))\n",
        "res_model.add(MaxPooling2D())\n",
        "res_model.add(Flatten())\n",
        "res_model.add(Dense(256, activation='relu'))\n",
        "res_model.add(BatchNormalization())\n",
        "res_model.add(Dropout(0.5))\n",
        "res_model.add(Dense(2, activation='softmax'))"
      ]
    },
    {
      "cell_type": "code",
      "execution_count": null,
      "metadata": {
        "id": "RfeVVIHu38Bc"
      },
      "outputs": [],
      "source": [
        "res_model.compile(loss='categorical_crossentropy', optimizer='adam', metrics=['accuracy'])\n",
        "res_model.summary()"
      ]
    },
    {
      "cell_type": "code",
      "execution_count": null,
      "metadata": {
        "id": "TspkO1xx-rOr"
      },
      "outputs": [],
      "source": [
        "import time\n",
        "start = time.time()\n",
        "\n",
        "hist = res_model.fit(x_train, train_yCl,\n",
        "                     batch_size=128,\n",
        "                     epochs = 1,\n",
        "                     validation_data = (x_val, valid_yCl)\n",
        "                     )\n",
        "\n",
        "print(\"Eğitim süresi: \", time.time() - start, \"saniye\")"
      ]
    },
    {
      "cell_type": "code",
      "execution_count": null,
      "metadata": {
        "id": "OcSGZWLW4G9m"
      },
      "outputs": [],
      "source": [
        "score_train_RESNET = res_model.evaluate(x_train, train_yCl)\n",
        "print(\"Train Accuracy: \", score_train_RESNET[1])\n",
        "\n",
        "score_test_RESNET = res_model.evaluate(x_test, test_yCl)\n",
        "print(\"Test Accuracy: \", score_test_RESNET[1])\n",
        "\n",
        "score_val_RESNET = res_model.evaluate(x_val, valid_yCl)\n",
        "print(\"Validation Accuracy: \", score_val_RESNET[1])"
      ]
    },
    {
      "cell_type": "code",
      "source": [
        "from sklearn.metrics import confusion_matrix, classification_report\n",
        "import itertools\n",
        "def plot_confusion_matrix(cm, classes, normalize=True, title='Confusion matrix', cmap=plt.cm.Blues):\n",
        "    plt.figure(figsize=(10, 10))\n",
        "    plt.imshow(cm, interpolation='nearest', cmap=cmap)\n",
        "    plt.title(title)\n",
        "    plt.colorbar()\n",
        "    tick_marks = np.arange(len(classes))\n",
        "    plt.xticks(tick_marks, classes, rotation=45)\n",
        "    plt.yticks(tick_marks, classes)\n",
        "    if normalize:\n",
        "        cm = cm.astype('float') / cm.sum(axis=1)[:, np.newaxis]\n",
        "        cm = np.around(cm, decimals=2)\n",
        "        cm[np.isnan(cm)] = 0.0\n",
        "    thresh = cm.max() / 2.\n",
        "    for i, j in itertools.product(range(cm.shape[0]), range(cm.shape[1])):\n",
        "        plt.text(j, i, cm[i, j],\n",
        "                 horizontalalignment=\"center\",\n",
        "                 color=\"white\" if cm[i, j] > thresh else \"black\")\n",
        "    plt.tight_layout()\n",
        "    plt.ylabel('True label')\n",
        "    plt.xlabel('Predicted label')"
      ],
      "metadata": {
        "id": "Bie_REMb9KO2"
      },
      "execution_count": null,
      "outputs": []
    },
    {
      "cell_type": "code",
      "source": [
        "\n",
        "labels_names = [0,1]\n",
        "\n",
        "Y_pred = res_model.predict(x_test)\n",
        "\n",
        "y_pred_resnet = np.argmax(Y_pred, axis=1)\n",
        "\n",
        "cm_RESNET = confusion_matrix(y_test, y_pred_resnet)\n",
        "plot_confusion_matrix(cm_RESNET, CATEGORIES, normalize=False, title='Karmaşıklık Matrisi (Confusion Matrix)')"
      ],
      "metadata": {
        "id": "VPVlrWx-9OG5"
      },
      "execution_count": null,
      "outputs": []
    },
    {
      "cell_type": "code",
      "source": [
        "from sklearn.utils.extmath import weighted_mode\n",
        "from sklearn.metrics import accuracy_score,f1_score,precision_score,recall_score\n",
        "\n",
        "accuracy = accuracy_score(y_test, y_pred_resnet)\n",
        "print(' RESNET50 Accuracy Değeri: %f' % accuracy)\n",
        "\n",
        "precision = precision_score(y_test, y_pred_resnet,average='weighted',zero_division=0)\n",
        "print('RESNET50 Precision Değeri: %f' % precision)\n",
        "\n",
        "recall = recall_score(y_test, y_pred_resnet,average='weighted',zero_division=0)\n",
        "print('RESNET50 Recall Değeri: %f' % recall)\n",
        "\n",
        "f1 = f1_score(y_test, y_pred_resnet,average='weighted',zero_division=0)\n",
        "print('RESNET50 F1 Değeri: %f' % f1)"
      ],
      "metadata": {
        "id": "iQUTM9g49ThR"
      },
      "execution_count": null,
      "outputs": []
    },
    {
      "cell_type": "code",
      "source": [
        "print(classification_report(y_test,y_pred_resnet,zero_division=0 ))"
      ],
      "metadata": {
        "id": "0ZDbKmB292Sd"
      },
      "execution_count": null,
      "outputs": []
    },
    {
      "cell_type": "markdown",
      "source": [
        "# INCEPTIONv3"
      ],
      "metadata": {
        "id": "6zffzn_R_bDV"
      }
    },
    {
      "cell_type": "code",
      "source": [
        "inceptionv3 = tf.keras.applications.InceptionV3(\n",
        "        input_shape=(100, 100, 3),\n",
        "        include_top = False,\n",
        "        weights=\"imagenet\"\n",
        ")\n",
        "\n",
        "inceptionv3.trainable = False"
      ],
      "metadata": {
        "id": "7c4AKsdJ-Kve"
      },
      "execution_count": null,
      "outputs": []
    },
    {
      "cell_type": "code",
      "source": [
        "inceptionv3_model = Sequential()\n",
        "\n",
        "inceptionv3_model.add(inceptionv3)\n",
        "inceptionv3_model.add(Dropout(0.25))\n",
        "#inceptionv3_model.add(MaxPooling2D())\n",
        "inceptionv3_model.add(Flatten())\n",
        "inceptionv3_model.add(Dense(256, activation='relu'))\n",
        "inceptionv3_model.add(BatchNormalization())\n",
        "inceptionv3_model.add(Dropout(0.5))\n",
        "inceptionv3_model.add(Dense(2, activation='softmax'))"
      ],
      "metadata": {
        "id": "zSSSJNhd_gcK"
      },
      "execution_count": null,
      "outputs": []
    },
    {
      "cell_type": "code",
      "source": [
        "inceptionv3_model.compile(loss='categorical_crossentropy', optimizer='adam', metrics=['accuracy'])"
      ],
      "metadata": {
        "id": "jbBy9hDx_k9y"
      },
      "execution_count": null,
      "outputs": []
    },
    {
      "cell_type": "code",
      "source": [
        "import time\n",
        "start = time.time()\n",
        "\n",
        "hist = inceptionv3_model.fit(x_train, train_yCl,\n",
        "                     batch_size=128,\n",
        "                     #epochs = 50,\n",
        "                             epochs = 1,\n",
        "                     validation_data = (x_val, valid_yCl)\n",
        "                     )\n",
        "\n",
        "print(\"Eğitim süresi: \", time.time() - start, \"saniye\")"
      ],
      "metadata": {
        "id": "8wjifz8coTAj"
      },
      "execution_count": null,
      "outputs": []
    },
    {
      "cell_type": "code",
      "source": [
        "score_train_INCEPV3 = inceptionv3_model.evaluate(x_train, train_yCl)\n",
        "print(\"Train Accuracy: \", score_train_INCEPV3[1])\n",
        "\n",
        "score_test_INCEPV3 = inceptionv3_model.evaluate(x_test, test_yCl)\n",
        "print(\"Test Accuracy: \", score_test_INCEPV3[1])\n",
        "\n",
        "score_val_INCEPV3 = inceptionv3_model.evaluate(x_val, valid_yCl)\n",
        "print(\"Validation Accuracy: \", score_val_INCEPV3[1])"
      ],
      "metadata": {
        "id": "xYFmFp_J_o6e"
      },
      "execution_count": null,
      "outputs": []
    },
    {
      "cell_type": "code",
      "source": [
        "labels_names = [0,1]\n",
        "\n",
        "Y_pred = inceptionv3_model.predict(x_test)\n",
        "\n",
        "y_pred_INCEPV3 = np.argmax(Y_pred, axis=1)\n",
        "\n",
        "cm_INCEPV3 = confusion_matrix(y_test, y_pred_INCEPV3)\n",
        "plot_confusion_matrix(cm_INCEPV3, CATEGORIES, normalize=False, title='Karmaşıklık Matrisi (Confusion Matrix)')"
      ],
      "metadata": {
        "id": "pOArttHm_q7t"
      },
      "execution_count": null,
      "outputs": []
    },
    {
      "cell_type": "code",
      "source": [
        "from sklearn.utils.extmath import weighted_mode\n",
        "from sklearn.metrics import accuracy_score,f1_score,precision_score,recall_score\n",
        "\n",
        "accuracy = accuracy_score(y_test, y_pred_INCEPV3)\n",
        "print('INCEPTIONv3 Accuracy Değeri: %f' % accuracy)\n",
        "\n",
        "precision = precision_score(y_test, y_pred_INCEPV3,average='weighted',zero_division=0)\n",
        "print('INCEPTIONv3 Precision Değeri: %f' % precision)\n",
        "\n",
        "recall = recall_score(y_test, y_pred_INCEPV3,average='weighted',zero_division=0)\n",
        "print('INCEPTIONv3 Recall Değeri: %f' % recall)\n",
        "\n",
        "f1 = f1_score(y_test, y_pred_INCEPV3,average='weighted',zero_division=0)\n",
        "print('INCEPTIONv3 F1 Değeri: %f' % f1)"
      ],
      "metadata": {
        "id": "hppo_PzS_wyh"
      },
      "execution_count": null,
      "outputs": []
    },
    {
      "cell_type": "code",
      "source": [
        "print(classification_report(y_test,y_pred_INCEPV3 ,zero_division=0))"
      ],
      "metadata": {
        "id": "sXX5PxXC_zIx"
      },
      "execution_count": null,
      "outputs": []
    },
    {
      "cell_type": "markdown",
      "source": [
        "# Yapay Sinir Ağları"
      ],
      "metadata": {
        "id": "fka1o_27k_JN"
      }
    },
    {
      "cell_type": "code",
      "source": [
        "from tensorflow.keras import layers"
      ],
      "metadata": {
        "id": "KprPuWinvCXe"
      },
      "execution_count": null,
      "outputs": []
    },
    {
      "cell_type": "code",
      "source": [
        "from keras.layers import Conv2D, MaxPooling2D, Flatten, Dense\n",
        "ann_model = Sequential()\n",
        "ann_model.add(Flatten(input_shape=(100, 100, 3)))\n",
        "ann_model.add(layers.Dense(16, activation=\"relu\"))\n",
        "ann_model.add(layers.Dense(8, activation=\"relu\"))\n",
        "ann_model.add(BatchNormalization())\n",
        "ann_model.add(Dense(2))\n",
        "ann_model.add(Activation('softmax'))\n",
        "ann_model.summary()\n",
        "ann_model.compile(optimizer='Adam',loss=\"binary_crossentropy\",metrics=[\"accuracy\"])"
      ],
      "metadata": {
        "id": "H-fDFaGNlDK1"
      },
      "execution_count": null,
      "outputs": []
    },
    {
      "cell_type": "code",
      "source": [
        "from tensorflow import keras\n",
        "\n",
        "callback_list = [\n",
        "    keras.callbacks.ModelCheckpoint(\n",
        "        filepath='model.h5',\n",
        "        monitor = 'val_accuracy', save_best_only=True, verbose=3\n",
        "    ),\n",
        "    keras.callbacks.EarlyStopping(monitor='val_loss', patience=10, verbose=3)\n",
        "]"
      ],
      "metadata": {
        "id": "pxNHSz68muwr"
      },
      "execution_count": null,
      "outputs": []
    },
    {
      "cell_type": "code",
      "source": [
        "history = ann_model.fit(x_train, train_yCl,\n",
        "                    batch_size=128,\n",
        "                    validation_data = (x_val, valid_yCl),\n",
        "                    callbacks = callback_list,\n",
        "                    epochs = 20\n",
        "                    )\n"
      ],
      "metadata": {
        "id": "UsHz4eOPm0S-"
      },
      "execution_count": null,
      "outputs": []
    },
    {
      "cell_type": "code",
      "source": [
        "score_valid_ann = ann_model.evaluate(x_val, valid_yCl)\n",
        "print(\"Validation Accuracy: \", score_valid[1])\n",
        "\n",
        "score_test_ann = ann_model.evaluate(x_test, test_yCl)\n",
        "print(\"Validation Accuracy: \", score_test[1])\n",
        "\n",
        "score_train_ann = ann_model.evaluate(x_train, train_yCl)\n",
        "print(\"Validation Accuracy: \", score_train[1])"
      ],
      "metadata": {
        "id": "i62aRz50yz6R"
      },
      "execution_count": null,
      "outputs": []
    },
    {
      "cell_type": "code",
      "source": [
        "labels_names = [0,1]\n",
        "\n",
        "Y_pred = ann_model.predict(x_test)\n",
        "\n",
        "y_pred_ann = np.argmax(Y_pred, axis=1)\n",
        "\n",
        "cm_ann = confusion_matrix(y_test, y_pred_ann)\n",
        "plot_confusion_matrix(cm_ann, CATEGORIES, normalize=False, title='Karmaşıklık Matrisi (Confusion Matrix)')"
      ],
      "metadata": {
        "id": "la6WqVhq8GfY"
      },
      "execution_count": null,
      "outputs": []
    },
    {
      "cell_type": "code",
      "source": [
        "from sklearn.utils.extmath import weighted_mode\n",
        "from sklearn.metrics import accuracy_score,f1_score,precision_score,recall_score\n",
        "\n",
        "accuracy = accuracy_score(y_test, y_pred_ann)\n",
        "print('INCEPTIONv3 Accuracy Değeri: %f' % accuracy)\n",
        "\n",
        "precision = precision_score(y_test, y_pred_ann,average='weighted',zero_division=0)\n",
        "print('INCEPTIONv3 Precision Değeri: %f' % precision)\n",
        "\n",
        "recall = recall_score(y_test, y_pred_ann,average='weighted',zero_division=0)\n",
        "print('INCEPTIONv3 Recall Değeri: %f' % recall)\n",
        "\n",
        "f1 = f1_score(y_test, y_pred_ann,average='weighted',zero_division=0)\n",
        "print('INCEPTIONv3 F1 Değeri: %f' % f1)\n",
        "print(\"------------------------------------------------------------------\")\n",
        "\n",
        "print(classification_report(y_test,y_pred_ann ,zero_division=0))\n",
        "\n",
        "print(\"------------------------------------------------------------------\")\n"
      ],
      "metadata": {
        "id": "jTcITozezeXe"
      },
      "execution_count": null,
      "outputs": []
    }
  ],
  "metadata": {
    "accelerator": "TPU",
    "colab": {
      "provenance": []
    },
    "kernelspec": {
      "display_name": "Python 3",
      "name": "python3"
    },
    "language_info": {
      "name": "python"
    }
  },
  "nbformat": 4,
  "nbformat_minor": 0
}